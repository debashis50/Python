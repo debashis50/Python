{
  "nbformat": 4,
  "nbformat_minor": 0,
  "metadata": {
    "colab": {
      "provenance": [],
      "authorship_tag": "ABX9TyMYDSTq7tq4PjyBVHkwAJRE",
      "include_colab_link": true
    },
    "kernelspec": {
      "name": "python3",
      "display_name": "Python 3"
    },
    "language_info": {
      "name": "python"
    }
  },
  "cells": [
    {
      "cell_type": "markdown",
      "metadata": {
        "id": "view-in-github",
        "colab_type": "text"
      },
      "source": [
        "<a href=\"https://colab.research.google.com/github/debashis50/Python/blob/main/Add_Remove_using_tuple.ipynb\" target=\"_parent\"><img src=\"https://colab.research.google.com/assets/colab-badge.svg\" alt=\"Open In Colab\"/></a>"
      ]
    },
    {
      "cell_type": "code",
      "execution_count": 14,
      "metadata": {
        "colab": {
          "base_uri": "https://localhost:8080/"
        },
        "id": "Oc-XEs1dtKzk",
        "outputId": "b30d6f89-fa7b-4b42-fe21-1f2a45ec4625"
      },
      "outputs": [
        {
          "output_type": "stream",
          "name": "stdout",
          "text": [
            "('cherry', 'pineapple')\n"
          ]
        }
      ],
      "source": [
        "fruits = (\"apple\", \"banana\", \"cherry\", \"orange\")\n",
        "y = list(fruits)\n",
        "y[1] = \"kiwi\"\n",
        "y.append(\"pineapple\")\n",
        "y.remove(\"orange\")\n",
        "y.remove(\"kiwi\")\n",
        "y.pop(0)\n",
        "fruits = tuple(y)\n",
        "print(fruits)"
      ]
    }
  ]
}