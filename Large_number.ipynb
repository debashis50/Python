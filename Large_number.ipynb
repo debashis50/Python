{
  "nbformat": 4,
  "nbformat_minor": 0,
  "metadata": {
    "colab": {
      "provenance": [],
      "authorship_tag": "ABX9TyMz+SOvBCqiuKkIFG+Kq6dw",
      "include_colab_link": true
    },
    "kernelspec": {
      "name": "python3",
      "display_name": "Python 3"
    },
    "language_info": {
      "name": "python"
    }
  },
  "cells": [
    {
      "cell_type": "markdown",
      "metadata": {
        "id": "view-in-github",
        "colab_type": "text"
      },
      "source": [
        "<a href=\"https://colab.research.google.com/github/debashis50/Python/blob/main/Large_number.ipynb\" target=\"_parent\"><img src=\"https://colab.research.google.com/assets/colab-badge.svg\" alt=\"Open In Colab\"/></a>"
      ]
    },
    {
      "cell_type": "code",
      "execution_count": 51,
      "metadata": {
        "colab": {
          "base_uri": "https://localhost:8080/"
        },
        "id": "8zwxAY3NQRt9",
        "outputId": "d01e8501-3ca0-4ba5-dad0-d88a76476569"
      },
      "outputs": [
        {
          "output_type": "stream",
          "name": "stdout",
          "text": [
            "Enter first number : 5\n",
            "Enter second Number : 4\n",
            "True\n"
          ]
        }
      ],
      "source": [
        "a=int(input(\"Enter first number : \"))\n",
        "b=int(input(\"Enter second Number : \"))\n",
        "if a>b or a==b:\n",
        "  print('True')\n",
        "else:\n",
        "  print('False')"
      ]
    }
  ]
}