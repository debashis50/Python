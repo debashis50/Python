{
  "nbformat": 4,
  "nbformat_minor": 0,
  "metadata": {
    "colab": {
      "provenance": [],
      "authorship_tag": "ABX9TyNdKrlPPw5imReaCGdoEic8",
      "include_colab_link": true
    },
    "kernelspec": {
      "name": "python3",
      "display_name": "Python 3"
    },
    "language_info": {
      "name": "python"
    }
  },
  "cells": [
    {
      "cell_type": "markdown",
      "metadata": {
        "id": "view-in-github",
        "colab_type": "text"
      },
      "source": [
        "<a href=\"https://colab.research.google.com/github/debashis50/Python/blob/main/Add_Remove.ipynb\" target=\"_parent\"><img src=\"https://colab.research.google.com/assets/colab-badge.svg\" alt=\"Open In Colab\"/></a>"
      ]
    },
    {
      "cell_type": "code",
      "execution_count": 12,
      "metadata": {
        "colab": {
          "base_uri": "https://localhost:8080/"
        },
        "id": "z7QjDfSprR-J",
        "outputId": "67671d48-de66-4038-ef6a-88e60c11a625"
      },
      "outputs": [
        {
          "output_type": "stream",
          "name": "stdout",
          "text": [
            "[1, [20, 6], 9, 500, 500]\n"
          ]
        }
      ],
      "source": [
        "nums =[1,[20,6],9]\n",
        "nums.append(500)\n",
        "nums.append(500)\n",
        "nums.insert(0,99)\n",
        "nums.pop(0)\n",
        "print(nums)"
      ]
    }
  ]
}