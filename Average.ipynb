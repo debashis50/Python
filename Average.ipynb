{
  "nbformat": 4,
  "nbformat_minor": 0,
  "metadata": {
    "colab": {
      "provenance": [],
      "authorship_tag": "ABX9TyNB5wqB/OL/UaWkmrVnNrA1",
      "include_colab_link": true
    },
    "kernelspec": {
      "name": "python3",
      "display_name": "Python 3"
    },
    "language_info": {
      "name": "python"
    }
  },
  "cells": [
    {
      "cell_type": "markdown",
      "metadata": {
        "id": "view-in-github",
        "colab_type": "text"
      },
      "source": [
        "<a href=\"https://colab.research.google.com/github/debashis50/Python/blob/main/Average.ipynb\" target=\"_parent\"><img src=\"https://colab.research.google.com/assets/colab-badge.svg\" alt=\"Open In Colab\"/></a>"
      ]
    },
    {
      "cell_type": "code",
      "execution_count": 40,
      "metadata": {
        "colab": {
          "base_uri": "https://localhost:8080/"
        },
        "id": "8zwxAY3NQRt9",
        "outputId": "dea61727-2196-4efc-ad24-1003b088baca"
      },
      "outputs": [
        {
          "output_type": "stream",
          "name": "stdout",
          "text": [
            "Enter first number : 4\n",
            "Enter second Number : 3\n",
            "The Area is: 3.5\n"
          ]
        }
      ],
      "source": [
        "num1=float(input(\"Enter first number : \"))\n",
        "num2=float(input(\"Enter second Number : \"))\n",
        "avg=(num1+num2)/2\n",
        "print(f\"The Area is: {avg}\")"
      ]
    }
  ]
}